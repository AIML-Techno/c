{
 "cells": [
  {
   "cell_type": "code",
   "execution_count": 71,
   "metadata": {},
   "outputs": [
    {
     "name": "stdout",
     "output_type": "stream",
     "text": [
      "1\n",
      "4\n",
      "15\n",
      "9\n"
     ]
    }
   ],
   "source": [
    "nums= [2, 7, 11, 15]\n",
    "target = 9\n",
    "l = []\n",
    "x = 1\n",
    "length = len(nums) - 1\n",
    "for i in nums:\n",
    "    if (target - i) in nums[x:]:\n",
    "       l.append(length - nums[::-1].index(target - i))\n",
    "      \n",
    "    else:\n",
    "       l = []\n",
    "       x = x + 1\n",
    "print(1)\n",
    "print(x)\n",
    "print(i)\n",
    "#target = [0,1]\n",
    "print(target)"
   ]
  }
 ],
 "metadata": {
  "kernelspec": {
   "display_name": "base",
   "language": "python",
   "name": "python3"
  },
  "language_info": {
   "codemirror_mode": {
    "name": "ipython",
    "version": 3
   },
   "file_extension": ".py",
   "mimetype": "text/x-python",
   "name": "python",
   "nbconvert_exporter": "python",
   "pygments_lexer": "ipython3",
   "version": "3.9.12"
  },
  "orig_nbformat": 4,
  "vscode": {
   "interpreter": {
    "hash": "9bbb6fc2d869a8aa0c1e04fa0639318c175b6b8cba821b395fd1e7cfeb8b5633"
   }
  }
 },
 "nbformat": 4,
 "nbformat_minor": 2
}
