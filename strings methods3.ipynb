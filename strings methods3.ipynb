{
 "cells": [
  {
   "cell_type": "code",
   "execution_count": 13,
   "metadata": {},
   "outputs": [
    {
     "name": "stdout",
     "output_type": "stream",
     "text": [
      "4\n",
      "4\n"
     ]
    }
   ],
   "source": [
    "a = \"I Love python\"\n",
    "print(a.index(\"v\"))\n",
    "print(a.index(\"v\", 0, 10,))\n"
   ]
  },
  {
   "cell_type": "code",
   "execution_count": 15,
   "metadata": {},
   "outputs": [
    {
     "name": "stdout",
     "output_type": "stream",
     "text": [
      "4\n",
      "4\n",
      "-1\n"
     ]
    }
   ],
   "source": [
    "\n",
    "a = \"I Love python\"\n",
    "print(a.find(\"v\"))\n",
    "print(a.find(\"v\", 0, 10,))\n",
    "print( a.find(\"v\", 0, 4,))"
   ]
  },
  {
   "cell_type": "code",
   "execution_count": 23,
   "metadata": {},
   "outputs": [
    {
     "name": "stdout",
     "output_type": "stream",
     "text": [
      "   Mohmmed\n",
      "###Mohmmed\n",
      "Mohmmed   \n",
      "Mohmmed###\n",
      "<class 'list'>\n",
      "['first line', 'second line', 'third line']\n"
     ]
    }
   ],
   "source": [
    "#rjust\n",
    "\n",
    "c= \"Mohmmed\"\n",
    "print(c.rjust(10))\n",
    "print(c.rjust(10,\"#\"))\n",
    "\n",
    "#ljust()\n",
    "\n",
    "j= \"Mohmmed\"\n",
    "print(j.ljust(10))\n",
    "print(j.ljust(10,\"#\"))\n",
    "\n",
    "\n",
    "# splitlines()\n",
    "\n",
    "e = \"\"\"First Line\n",
    "Second Line\n",
    "Third Line\"\"\"\n",
    "\n",
    "print(type(e.splitlines()))\n",
    "\n",
    "\n",
    "f = \"first line\\nsecond line\\nthird line\"\n",
    "\n",
    "print(f.splitlines())\n",
    "\n"
   ]
  },
  {
   "cell_type": "code",
   "execution_count": 46,
   "metadata": {},
   "outputs": [
    {
     "name": "stdout",
     "output_type": "stream",
     "text": [
      "False\n",
      "True\n"
     ]
    },
    {
     "ename": "AttributeError",
     "evalue": "'str' object has no attribute 'isalnm'",
     "output_type": "error",
     "traceback": [
      "\u001b[1;31m---------------------------------------------------------------------------\u001b[0m",
      "\u001b[1;31mAttributeError\u001b[0m                            Traceback (most recent call last)",
      "Cell \u001b[1;32mIn[46], line 26\u001b[0m\n\u001b[0;32m     22\u001b[0m y \u001b[39m=\u001b[39m \u001b[39m\"\u001b[39m\u001b[39mMmmmmHhhhhh\u001b[39m\u001b[39m\"\u001b[39m\n\u001b[0;32m     23\u001b[0m \u001b[39mprint\u001b[39m(x\u001b[39m.\u001b[39misalpha())\n\u001b[1;32m---> 26\u001b[0m \u001b[39mprint\u001b[39m(x\u001b[39m.\u001b[39;49misalnm())\n",
      "\u001b[1;31mAttributeError\u001b[0m: 'str' object has no attribute 'isalnm'"
     ]
    }
   ],
   "source": [
    "# exandtabs()\n",
    "\n",
    "g = \"Hello\\tworld\\tLove\\tpython\"\n",
    "# print(g.expandtabs)\n",
    "\n",
    "one = \"  \"\n",
    "Two =\"i iove python\"\n",
    "print(one.istitle())\n",
    "\n",
    "# print(one.isspace())\n",
    "#print(Two.islower())\n",
    "\n",
    "\n",
    "four = \"M_H\"\n",
    "five = \"mh\"\n",
    "# print(five.isidentifier())\n",
    "# print(four.isidentifier())\n",
    "\n",
    "\n",
    "# isalpha\n",
    "x = \"MmmmHhhh\"\n",
    "y = \"MmmmmHhhhhh\"\n",
    "print(x.isalpha())\n",
    "\n",
    "print(x.isalnm())\n"
   ]
  },
  {
   "cell_type": "markdown",
   "metadata": {},
   "source": []
  }
 ],
 "metadata": {
  "kernelspec": {
   "display_name": "Python 3",
   "language": "python",
   "name": "python3"
  },
  "language_info": {
   "codemirror_mode": {
    "name": "ipython",
    "version": 3
   },
   "file_extension": ".py",
   "mimetype": "text/x-python",
   "name": "python",
   "nbconvert_exporter": "python",
   "pygments_lexer": "ipython3",
   "version": "3.11.0"
  },
  "orig_nbformat": 4,
  "vscode": {
   "interpreter": {
    "hash": "9312891a863a0535ad28a12f961832b616d9de48459a2c4b2fe1ebc13188f7d6"
   }
  }
 },
 "nbformat": 4,
 "nbformat_minor": 2
}
