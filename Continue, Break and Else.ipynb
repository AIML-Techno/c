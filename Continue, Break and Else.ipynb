{
 "cells": [
  {
   "cell_type": "code",
   "execution_count": 6,
   "metadata": {},
   "outputs": [],
   "source": [
    "my_list = [1, 2, 3, 200, 4, 5]\n",
    "for i in my_list:\n",
    "    if i > 50:\n",
    "        break\n",
    "    print(i)"
   ]
  },
  {
   "cell_type": "code",
   "execution_count": 9,
   "metadata": {},
   "outputs": [
    {
     "name": "stdout",
     "output_type": "stream",
     "text": [
      "0\n",
      "1\n",
      "2\n",
      "3\n",
      "4\n",
      "5\n",
      "breaking out of the loop\n",
      "done\n"
     ]
    }
   ],
   "source": [
    "for i in range(100):\n",
    "    print(i)\n",
    "    if i >=5:\n",
    "        print('breaking out of the loop')\n",
    "        break\n",
    "print('done')    \n"
   ]
  },
  {
   "cell_type": "code",
   "execution_count": 14,
   "metadata": {},
   "outputs": [
    {
     "name": "stdout",
     "output_type": "stream",
     "text": [
      "2\n",
      "4\n",
      "6\n",
      "8\n",
      "10\n"
     ]
    }
   ],
   "source": [
    "for i in range (1, 11):\n",
    "\n",
    "    if i % 2 == 1:\n",
    "        continue\n",
    "    print(i)"
   ]
  },
  {
   "cell_type": "code",
   "execution_count": 15,
   "metadata": {},
   "outputs": [
    {
     "name": "stdout",
     "output_type": "stream",
     "text": [
      "2\n",
      "4\n",
      "6\n",
      "8\n",
      "10\n"
     ]
    }
   ],
   "source": [
    "for i in range (1, 11):\n",
    "\n",
    "    if i % 2 == 0:\n",
    "        \n",
    "        print(i)"
   ]
  },
  {
   "cell_type": "code",
   "execution_count": 16,
   "metadata": {},
   "outputs": [
    {
     "name": "stdout",
     "output_type": "stream",
     "text": [
      "adding numbers: 1 +1 = 2\n",
      "1 + 2 is odd , skipping.....\n",
      "adding numbers: 1 +3 = 4\n",
      "1 + 4 is odd , skipping.....\n",
      "----------\n",
      "2 + 1 is odd , skipping.....\n",
      "adding numbers: 2 +2 = 4\n",
      "2 + 3 is odd , skipping.....\n",
      "adding numbers: 2 +4 = 6\n",
      "----------\n",
      "adding numbers: 3 +1 = 4\n",
      "3 + 2 is odd , skipping.....\n",
      "adding numbers: 3 +3 = 6\n",
      "3 + 4 is odd , skipping.....\n",
      "----------\n",
      "4 + 1 is odd , skipping.....\n",
      "adding numbers: 4 +2 = 6\n",
      "4 + 3 is odd , skipping.....\n",
      "adding numbers: 4 +4 = 8\n",
      "----------\n"
     ]
    }
   ],
   "source": [
    "for i in range(1,5):\n",
    "    for j in range (1,5):\n",
    "        if (i+j)% 2==1:\n",
    "            print (f'{i} + {j} is odd , skipping.....')\n",
    "            continue\n",
    "        print(f'adding numbers: {i} +{j} = {i + j}')\n",
    "    print('-'* 10)"
   ]
  },
  {
   "cell_type": "code",
   "execution_count": 17,
   "metadata": {},
   "outputs": [
    {
     "name": "stdout",
     "output_type": "stream",
     "text": [
      "1 1\n",
      "1 2\n",
      "----------\n",
      "2 1\n",
      "2 2\n",
      "----------\n",
      "3 1\n",
      "3 2\n",
      "----------\n"
     ]
    }
   ],
   "source": [
    "for i in range (1, 4):\n",
    "    for j in range (1, 4):\n",
    "        if j >= 3:\n",
    "            break\n",
    "        print(i ,j)\n",
    "    print ('-'*10)"
   ]
  },
  {
   "cell_type": "code",
   "execution_count": 19,
   "metadata": {},
   "outputs": [
    {
     "name": "stdout",
     "output_type": "stream",
     "text": [
      "1\n",
      "2\n",
      "3\n",
      "4\n",
      "5\n"
     ]
    }
   ],
   "source": [
    "i = 0\n",
    "\n",
    "while True:\n",
    "    i += 1\n",
    "    if i > 5:\n",
    "        break    \n",
    "    print(i)"
   ]
  },
  {
   "cell_type": "code",
   "execution_count": 20,
   "metadata": {},
   "outputs": [
    {
     "name": "stdout",
     "output_type": "stream",
     "text": [
      "0\n",
      "1\n",
      "2\n",
      "3\n",
      "4\n",
      "lop terminated normally\n"
     ]
    }
   ],
   "source": [
    "for i in range (5):\n",
    "    print(i)\n",
    "\n",
    "else:\n",
    "    print('lop terminated normally')"
   ]
  },
  {
   "cell_type": "code",
   "execution_count": 28,
   "metadata": {},
   "outputs": [
    {
     "name": "stdout",
     "output_type": "stream",
     "text": [
      "0\n",
      "1\n",
      "2\n",
      "3\n",
      "4\n"
     ]
    }
   ],
   "source": [
    "for i in range (5):\n",
    "    print(i)\n",
    "    if i > 3 :\n",
    "        break\n",
    "else:\n",
    "    print('loop terminated normally')"
   ]
  },
  {
   "cell_type": "code",
   "execution_count": 56,
   "metadata": {},
   "outputs": [
    {
     "name": "stdout",
     "output_type": "stream",
     "text": [
      "processing all positve el\n"
     ]
    }
   ],
   "source": [
    "data = [1, 2, 3, 4, 5, 6]\n",
    "\n",
    "all_positsve =True\n",
    "for el in data:\n",
    "    if el <= 0 :\n",
    "        all_positsve = False\n",
    "        break\n",
    "\n",
    "if all_positsve :\n",
    "    print('processing all positve el')"
   ]
  },
  {
   "cell_type": "code",
   "execution_count": 58,
   "metadata": {},
   "outputs": [
    {
     "name": "stdout",
     "output_type": "stream",
     "text": [
      "processing all positve el\n",
      "processing all positve el\n",
      "processing all positve el\n",
      "processing all positve el\n",
      "processing all positve el\n",
      "processing all positve el\n"
     ]
    }
   ],
   "source": [
    "data = [1, 2, 3, 4, 5, 6]\n",
    "\n",
    "for el in data:\n",
    "    if el < 0:\n",
    "        break\n",
    "\n",
    "    else:\n",
    "\n",
    "        print('processing all positve el')"
   ]
  }
 ],
 "metadata": {
  "kernelspec": {
   "display_name": "Python 3",
   "language": "python",
   "name": "python3"
  },
  "language_info": {
   "codemirror_mode": {
    "name": "ipython",
    "version": 3
   },
   "file_extension": ".py",
   "mimetype": "text/x-python",
   "name": "python",
   "nbconvert_exporter": "python",
   "pygments_lexer": "ipython3",
   "version": "3.11.0 (main, Oct 24 2022, 18:26:48) [MSC v.1933 64 bit (AMD64)]"
  },
  "orig_nbformat": 4,
  "vscode": {
   "interpreter": {
    "hash": "9312891a863a0535ad28a12f961832b616d9de48459a2c4b2fe1ebc13188f7d6"
   }
  }
 },
 "nbformat": 4,
 "nbformat_minor": 2
}
