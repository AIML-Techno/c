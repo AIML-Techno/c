{
 "cells": [
  {
   "cell_type": "code",
   "execution_count": 11,
   "metadata": {},
   "outputs": [
    {
     "name": "stdout",
     "output_type": "stream",
     "text": [
      "my name is : meem \n",
      "my name is : meem and my age is: 23\n",
      "my number is: 10\n",
      "my number is: 10.000000\n",
      "my number is: 10.0\n",
      "Message is  Hello Mohmmed\n",
      "Message is  Hell\n"
     ]
    }
   ],
   "source": [
    "#string formatting\n",
    "\n",
    "name =\"meem\"\n",
    "age = 23\n",
    "rank = 10\n",
    "print(\"my name is : %s \"% \"meem\")\n",
    "\n",
    "print(\"my name is : %s and my age is: %d\" % (name , age))\n",
    "\n",
    "\n",
    "# control Floting point Number\n",
    "\n",
    "myNumber = 10\n",
    "print(\"my number is: %d\" % myNumber)\n",
    "print(\"my number is: %f\" % myNumber)\n",
    "print(\"my number is: %.1f\" % myNumber)\n",
    "\n",
    "# Truncate string\n",
    "\n",
    "myLongstring = \" Hello Mohmmed\"\n",
    "print(\"Message is %s\" % myLongstring)\n",
    "print(\"Message is %.5s\" % myLongstring)"
   ]
  },
  {
   "cell_type": "code",
   "execution_count": 21,
   "metadata": {},
   "outputs": [
    {
     "name": "stdout",
     "output_type": "stream",
     "text": [
      "My Name is:meem\n",
      "My Name is: meem and My Age is: 23\n",
      "My Money in Bank Is:999352464386197699\n",
      "My Money in Bank Is:999_352_464_386_197_699\n",
      "My Money in Bank Is:999,352,464,386,197,699\n",
      "Helloone two three\n"
     ]
    }
   ],
   "source": [
    "# string Format\n",
    "name =\"meem\"\n",
    "age = 23\n",
    "rank = 10\n",
    "print(\"My Name is:\"+ name)\n",
    "print(\"My Name is: {:s} and My Age is: {:d}\".format(name,age))\n",
    "\n",
    "\n",
    "\n",
    "# Format Money\n",
    "\n",
    "myMoney = 999352464386197699\n",
    "\n",
    "print(\"My Money in Bank Is:{}\".format(myMoney))\n",
    "print(\"My Money in Bank Is:{:_d}\".format(myMoney))\n",
    "print(\"My Money in Bank Is:{:,d}\".format(myMoney))\n",
    "\n",
    "\n",
    "# ReArrange Items\n",
    "a,b,c,= \"one\",\"two\",\"three\"\n",
    "print(\"Hello{} {} {}\".format(a,b,c))"
   ]
  }
 ],
 "metadata": {
  "kernelspec": {
   "display_name": "Python 3",
   "language": "python",
   "name": "python3"
  },
  "language_info": {
   "codemirror_mode": {
    "name": "ipython",
    "version": 3
   },
   "file_extension": ".py",
   "mimetype": "text/x-python",
   "name": "python",
   "nbconvert_exporter": "python",
   "pygments_lexer": "ipython3",
   "version": "3.11.0"
  },
  "orig_nbformat": 4,
  "vscode": {
   "interpreter": {
    "hash": "9312891a863a0535ad28a12f961832b616d9de48459a2c4b2fe1ebc13188f7d6"
   }
  }
 },
 "nbformat": 4,
 "nbformat_minor": 2
}
