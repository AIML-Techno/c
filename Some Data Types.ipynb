{
 "cells": [
  {
   "cell_type": "code",
   "execution_count": 20,
   "metadata": {},
   "outputs": [
    {
     "name": "stdout",
     "output_type": "stream",
     "text": [
      "<class 'int'>\n",
      "<class 'int'>\n",
      "<class 'int'>\n",
      "<class 'float'>\n",
      "<class 'float'>\n",
      "hello python\n",
      "<class 'tuple'>\n",
      "<class 'dict'>\n",
      "<class 'bool'>\n"
     ]
    }
   ],
   "source": [
    "#some Data types\n",
    "print(type(10))\n",
    "print(type(100))\n",
    "print(type(-50))\n",
    "\n",
    "\n",
    "\n",
    "print(type(10.99))\n",
    "print(type(1.44))\n",
    "\n",
    "print(\"hello python\")\n",
    "\n",
    "\n",
    "#print(type([1, 2, 3, 4, 5, ,6]))\n",
    "\n",
    "print(type((1, 2, 3, 4, 5, )))\n",
    "\n",
    "print(type({\"one\":1 ,\"Two\":2,\"Three\":3}))\n",
    "\n",
    "print(type(2==2))"
   ]
  }
 ],
 "metadata": {
  "kernelspec": {
   "display_name": "Python 3",
   "language": "python",
   "name": "python3"
  },
  "language_info": {
   "codemirror_mode": {
    "name": "ipython",
    "version": 3
   },
   "file_extension": ".py",
   "mimetype": "text/x-python",
   "name": "python",
   "nbconvert_exporter": "python",
   "pygments_lexer": "ipython3",
   "version": "3.11.0"
  },
  "orig_nbformat": 4,
  "vscode": {
   "interpreter": {
    "hash": "9312891a863a0535ad28a12f961832b616d9de48459a2c4b2fe1ebc13188f7d6"
   }
  }
 },
 "nbformat": 4,
 "nbformat_minor": 2
}
