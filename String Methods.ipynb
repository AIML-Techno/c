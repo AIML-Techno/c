{
 "cells": [
  {
   "cell_type": "code",
   "execution_count": 26,
   "metadata": {},
   "outputs": [
    {
     "name": "stdout",
     "output_type": "stream",
     "text": [
      "I Love python\n",
      "####I Love python\n",
      "I Love python###\n",
      "I Love python\n"
     ]
    }
   ],
   "source": [
    "# strings methods\n",
    "\n",
    "# strip() rstrip() lstrip()\n",
    "\n",
    "\n",
    "a = \"####I Love python###\"\n",
    "print(a.strip(\"#\"))\n",
    "print(a.rstrip(\"#\"))\n",
    "print(a.lstrip(\"#\"))\n",
    "\n",
    "a = \"@#@#@#I Love python@#@#@#\"\n",
    "print(a.strip(\"@#\"))\n"
   ]
  },
  {
   "cell_type": "code",
   "execution_count": 25,
   "metadata": {},
   "outputs": [
    {
     "name": "stdout",
     "output_type": "stream",
     "text": [
      "1\n",
      "11\n",
      "111\n",
      "001\n",
      "011\n",
      "111\n",
      "OSAMA\n",
      "osama\n"
     ]
    }
   ],
   "source": [
    "# title()\n",
    "b = \"I love 2d Graphics and 3g Technology and python\"\n",
    "#print(b.title())\n",
    "\n",
    "# capitalize()\n",
    "b = \"I love 2d Graphics and 3g Technology and python\"\n",
    "#print (b.capitalize())\n",
    "\n",
    "# zfillc\n",
    "\n",
    "c, d, e, = \"1\", \"11\", \"111\",\n",
    "\n",
    "print(c)\n",
    "print(d)\n",
    "print(e)\n",
    "\n",
    "\n",
    "print(c.zfill(3))\n",
    "print(d.zfill(3))\n",
    "print(e.zfill(3))\n",
    "\n",
    "\n",
    "# upper()\n",
    "g = \"osama\"\n",
    "print(g.upper())\n",
    "print(g.lower())"
   ]
  },
  {
   "cell_type": "code",
   "execution_count": 54,
   "metadata": {},
   "outputs": [
    {
     "name": "stdout",
     "output_type": "stream",
     "text": [
      "['I', 'Love', 'python', 'and', 'PHP']\n",
      "['I _Love _python_ and_ PHP']\n",
      "#yaman##\n",
      "@yaman@@\n",
      "2\n",
      "1\n",
      " i LOVE MAM\n",
      "i lOVE mom\n",
      "False\n",
      "False\n",
      "False\n",
      "True\n",
      "False\n",
      "False\n"
     ]
    }
   ],
   "source": [
    "# split() rsplit() \n",
    "\n",
    "a = \"I Love python and PHP\"\n",
    "print(a.split())\n",
    "\n",
    "c = \"I _Love _python_ and_ PHP\"\n",
    "print(c.split(\"-\",2))\n",
    "\n",
    "\n",
    "# center()\n",
    "\n",
    "e = \"yaman\"\n",
    "print(e.center(8, \"#\"))\n",
    "print(e.center(8, \"@\"))\n",
    "\n",
    "# count()\n",
    "f = \" I love python and PHP because PHP is Easy\"\n",
    "print(f.count(\"PHP\"))\n",
    "print(f.count(\"PHP\", 0, 25))\n",
    "\n",
    "\n",
    "\n",
    "# swpcase()\n",
    "\n",
    "g = \" I love mam\"\n",
    "h = \"I Love MOM\"\n",
    "print(g.swapcase())\n",
    "print(h.swapcase())\n",
    "\n",
    "#sartwaith()\n",
    "\n",
    "i = \" I love python\"\n",
    "print(i.startswith(\"I\"))\n",
    "print(i.startswith(\"s\"))\n",
    "\n",
    "print(i.startswith(\"p\", 7, 12))\n",
    "\n",
    "#endswith()\n",
    "\n",
    "j = \" I love python\"\n",
    "print(j.endswith(\"n\"))\n",
    "print(j.endswith(\"s\"))\n",
    "\n",
    "print(j.endswith(\"e\", 2, 6))\n",
    "\n"
   ]
  },
  {
   "cell_type": "code",
   "execution_count": null,
   "metadata": {},
   "outputs": [],
   "source": []
  }
 ],
 "metadata": {
  "kernelspec": {
   "display_name": "Python 3",
   "language": "python",
   "name": "python3"
  },
  "language_info": {
   "codemirror_mode": {
    "name": "ipython",
    "version": 3
   },
   "file_extension": ".py",
   "mimetype": "text/x-python",
   "name": "python",
   "nbconvert_exporter": "python",
   "pygments_lexer": "ipython3",
   "version": "3.11.0"
  },
  "orig_nbformat": 4,
  "vscode": {
   "interpreter": {
    "hash": "9312891a863a0535ad28a12f961832b616d9de48459a2c4b2fe1ebc13188f7d6"
   }
  }
 },
 "nbformat": 4,
 "nbformat_minor": 2
}
